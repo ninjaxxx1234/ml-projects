{
  "nbformat": 4,
  "nbformat_minor": 0,
  "metadata": {
    "colab": {
      "provenance": []
    },
    "kernelspec": {
      "name": "python3",
      "display_name": "Python 3"
    },
    "language_info": {
      "name": "python"
    }
  },
  "cells": [
    {
      "cell_type": "code",
      "execution_count": 1,
      "metadata": {
        "id": "OwsUY20o-683"
      },
      "outputs": [],
      "source": [
        "import numpy as np\n",
        "import argparse\n",
        "import cv2\n",
        "import os"
      ]
    },
    {
      "cell_type": "code",
      "source": [
        "import numpy as np\n",
        "import argparse\n",
        "import cv2\n",
        "import os\n",
        "\n",
        "\"\"\"\n",
        "Download the model files:\n",
        "\t1. colorization_deploy_v2.prototxt:    https://github.com/richzhang/colorization/tree/caffe/colorization/models\n",
        "\t2. pts_in_hull.npy:\t\t\t\t\t   https://github.com/richzhang/colorization/blob/caffe/colorization/resources/pts_in_hull.npy\n",
        "\t3. colorization_release_v2.caffemodel: https://www.dropbox.com/s/dx0qvhhp5hbcx7z/colorization_release_v2.caffemodel?dl=1\n",
        "\n",
        "\"\"\"\n",
        "\n",
        "# Paths to load the model\n",
        "\n",
        "PROTOTXT = os.path.join(\"/content/colorization_deploy_v2.prototxt\", r\"model/colorization_deploy_v2.prototxt\")\n",
        "POINTS = os.path.join(\"/content/pts_in_hull.npy\", r\"model/pts_in_hull.npy\")\n",
        "MODEL = os.path.join(\"/content/pts_in_hull.npy\", r\"model/colorization_release_v2.caffemodel\")\n",
        "\n",
        "# Argparser\n",
        "ap = argparse.ArgumentParser()\n",
        "ap.add_argument(\"-i\", \"--image\", type=str, required=True,\n",
        "\thelp=\"path to input black and white image\")\n",
        "args = vars(ap.parse_args())\n",
        "\n",
        "# Load the Model\n",
        "print(\"Load model\")\n",
        "net = cv2.dnn.readNetFromCaffe(PROTOTXT, MODEL)\n",
        "pts = np.load(POINTS)\n",
        "\n",
        "# Load centers for ab channel quantization used for rebalancing.\n",
        "class8 = net.getLayerId(\"class8_ab\")\n",
        "conv8 = net.getLayerId(\"conv8_313_rh\")\n",
        "pts = pts.transpose().reshape(2, 313, 1, 1)\n",
        "net.getLayer(class8).blobs = [pts.astype(\"float32\")]\n",
        "net.getLayer(conv8).blobs = [np.full([1, 313], 2.606, dtype=\"float32\")]\n",
        "\n",
        "# Load the input image\n",
        "image = cv2.imread(args[\"image\"])\n",
        "scaled = image.astype(\"float32\") / 255.0\n",
        "lab = cv2.cvtColor(scaled, cv2.COLOR_BGR2LAB)\n",
        "\n",
        "resized = cv2.resize(lab, (224, 224))\n",
        "L = cv2.split(resized)[0]\n",
        "L -= 50\n",
        "\n",
        "print(\"Colorizing the image\")\n",
        "net.setInput(cv2.dnn.blobFromImage(L))\n",
        "ab = net.forward()[0, :, :, :].transpose((1, 2, 0))\n",
        "\n",
        "ab = cv2.resize(ab, (image.shape[1], image.shape[0]))\n",
        "\n",
        "L = cv2.split(lab)[0]\n",
        "colorized = np.concatenate((L[:, :, np.newaxis], ab), axis=2)\n",
        "\n",
        "colorized = cv2.cvtColor(colorized, cv2.COLOR_LAB2BGR)\n",
        "colorized = np.clip(colorized, 0, 1)\n",
        "\n",
        "colorized = (255 * colorized).astype(\"uint8\")\n",
        "\n",
        "cv2.imshow(\"Original\", image)\n",
        "cv2.imshow(\"Colorized\", colorized)\n",
        "cv2.waitKey(0)"
      ],
      "metadata": {
        "colab": {
          "base_uri": "https://localhost:8080/",
          "height": 148
        },
        "id": "Wkr2Puvk_Pq_",
        "outputId": "8c2c93a7-257b-406c-b19e-76f29e4658b5"
      },
      "execution_count": 3,
      "outputs": [
        {
          "output_type": "stream",
          "name": "stderr",
          "text": [
            "usage: ipykernel_launcher.py [-h] -i IMAGE\n",
            "ipykernel_launcher.py: error: the following arguments are required: -i/--image\n"
          ]
        },
        {
          "output_type": "error",
          "ename": "SystemExit",
          "evalue": "ignored",
          "traceback": [
            "An exception has occurred, use %tb to see the full traceback.\n",
            "\u001b[0;31mSystemExit\u001b[0m\u001b[0;31m:\u001b[0m 2\n"
          ]
        }
      ]
    }
  ]
}